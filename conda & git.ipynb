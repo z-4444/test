{
 "cells": [
  {
   "cell_type": "markdown",
   "id": "cbe84a4e",
   "metadata": {},
   "source": [
    "Day 10: Conda & Git\n",
    "1. Conda\n",
    "i) Intro\n",
    "ii) Basic commands (https://docs.conda.io/projects/conda/en/4.6.0/_downloads/52a95608c49671267e40c689e0bc00ca/conda-cheatsheet.pdf)\n",
    "iii) Create a new environment of python 3.7 and install tensorflow 1.14, keras 2.1.6 and pytorch 1.2 in it\n",
    "iv) Create yml file of that environment and delete that environment\n",
    "v) Again create the same environment using that yml File\n",
    "2. Git\n",
    "i) Intro\n",
    "ii) Basic commands\n",
    "iii) Create a test repo on git, add first code, commit and push\n",
    "iv) Clone that repo in two different directories, change in one directory commit and push from it and take pull in other directory\n",
    "v) README.md and .gitignore\n",
    "vi) Resolving conflicts\n",
    "vii) Branches and merges\n",
    "3. Cloning others public source code from their repo and running that code\n",
    "i) Clone any yolo code from any publicly available git repo\n",
    "ii) Set separate Conda environment for it, install all dependencies (requirement.txt probably) in that environment\n",
    "iii) Resolve the errors in the code and start training\n",
    "iv) Make predictions using your own trained weights\n",
    "You may do all this yolo part on google collab\n",
    "At day end you are required to show the training and predictions of yolo"
   ]
  },
  {
   "cell_type": "code",
   "execution_count": null,
   "id": "5f3df490",
   "metadata": {},
   "outputs": [],
   "source": []
  }
 ],
 "metadata": {
  "kernelspec": {
   "display_name": "Python 3 (ipykernel)",
   "language": "python",
   "name": "python3"
  },
  "language_info": {
   "codemirror_mode": {
    "name": "ipython",
    "version": 3
   },
   "file_extension": ".py",
   "mimetype": "text/x-python",
   "name": "python",
   "nbconvert_exporter": "python",
   "pygments_lexer": "ipython3",
   "version": "3.9.13"
  }
 },
 "nbformat": 4,
 "nbformat_minor": 5
}
